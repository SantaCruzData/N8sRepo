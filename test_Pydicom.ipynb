{
 "cells": [
  {
   "cell_type": "code",
   "execution_count": 5,
   "metadata": {
    "collapsed": false
   },
   "outputs": [],
   "source": [
    "import dicom\n",
    "ds = dicom.read_file(\"0a67f9edb4915467ac16a565955898d3.dcm\")"
   ]
  },
  {
   "cell_type": "code",
   "execution_count": 10,
   "metadata": {
    "collapsed": false,
    "scrolled": true
   },
   "outputs": [
    {
     "data": {
      "text/plain": [
       "(0008, 0005) Specific Character Set              CS: 'ISO_IR 100'\n",
       "(0008, 0016) SOP Class UID                       UI: CT Image Storage\n",
       "(0008, 0018) SOP Instance UID                    UI: 1.2.840.113654.2.55.240087524148038410985780799448670801102\n",
       "(0008, 0060) Modality                            CS: 'CT'\n",
       "(0008, 103e) Series Description                  LO: 'Axial'\n",
       "(0010, 0010) Patient's Name                      PN: '0a0c32c9e08cc2ea76a71649de56be6d'\n",
       "(0010, 0020) Patient ID                          LO: '0a0c32c9e08cc2ea76a71649de56be6d'\n",
       "(0010, 0030) Patient's Birth Date                DA: '19000101'\n",
       "(0018, 0060) KVP                                 DS: ''\n",
       "(0020, 000d) Study Instance UID                  UI: 2.25.60037070027156423276159501017920151735078954137544798194660\n",
       "(0020, 000e) Series Instance UID                 UI: 2.25.58703274222857573910779974742342423982066946347485459782406\n",
       "(0020, 0011) Series Number                       IS: '1'\n",
       "(0020, 0012) Acquisition Number                  IS: '1'\n",
       "(0020, 0013) Instance Number                     IS: '45'\n",
       "(0020, 0020) Patient Orientation                 CS: ''\n",
       "(0020, 0032) Image Position (Patient)            DS: ['-160.100006', '-142.500000', '-93.410004']\n",
       "(0020, 0037) Image Orientation (Patient)         DS: ['1', '0', '0', '0', '1', '0']\n",
       "(0020, 0052) Frame of Reference UID              UI: 2.25.10816424791949633522058525471061381137400269917518537485573\n",
       "(0020, 1040) Position Reference Indicator        LO: 'SN'\n",
       "(0020, 1041) Slice Location                      DS: '-93.410004'\n",
       "(0028, 0002) Samples per Pixel                   US: 1\n",
       "(0028, 0004) Photometric Interpretation          CS: 'MONOCHROME2'\n",
       "(0028, 0006) Planar Configuration                US: 0\n",
       "(0028, 0010) Rows                                US: 512\n",
       "(0028, 0011) Columns                             US: 512\n",
       "(0028, 0030) Pixel Spacing                       DS: ['0.664062', '0.664062']\n",
       "(0028, 0100) Bits Allocated                      US: 16\n",
       "(0028, 0101) Bits Stored                         US: 12\n",
       "(0028, 0102) High Bit                            US: 11\n",
       "(0028, 0103) Pixel Representation                US: 0\n",
       "(0028, 0120) Pixel Padding Value                 US: 0\n",
       "(0028, 1050) Window Center                       DS: '40'\n",
       "(0028, 1051) Window Width                        DS: '400'\n",
       "(0028, 1052) Rescale Intercept                   DS: '-1024'\n",
       "(0028, 1053) Rescale Slope                       DS: '1'\n",
       "(0028, 1054) Rescale Type                        LO: 'HU'\n",
       "(7fe0, 0010) Pixel Data                          OW: Array of 524288 bytes"
      ]
     },
     "execution_count": 10,
     "metadata": {},
     "output_type": "execute_result"
    }
   ],
   "source": [
    "ds"
   ]
  },
  {
   "cell_type": "code",
   "execution_count": 19,
   "metadata": {
    "collapsed": false
   },
   "outputs": [
    {
     "data": {
      "text/plain": [
       "['AcquisitionNumber',\n",
       " 'BitsAllocated',\n",
       " 'BitsStored',\n",
       " 'Columns',\n",
       " 'FrameOfReferenceUID',\n",
       " 'HighBit',\n",
       " 'ImageOrientationPatient',\n",
       " 'ImagePositionPatient',\n",
       " 'InstanceNumber',\n",
       " 'KVP',\n",
       " 'Modality',\n",
       " 'PatientBirthDate',\n",
       " 'PatientID',\n",
       " 'PatientName',\n",
       " 'PatientOrientation',\n",
       " 'PhotometricInterpretation',\n",
       " 'PixelData',\n",
       " 'PixelPaddingValue',\n",
       " 'PixelRepresentation',\n",
       " 'PixelSpacing',\n",
       " 'PlanarConfiguration',\n",
       " 'PositionReferenceIndicator',\n",
       " 'RescaleIntercept',\n",
       " 'RescaleSlope',\n",
       " 'RescaleType',\n",
       " 'Rows',\n",
       " 'SOPClassUID',\n",
       " 'SOPInstanceUID',\n",
       " 'SamplesPerPixel',\n",
       " 'SeriesDescription',\n",
       " 'SeriesInstanceUID',\n",
       " 'SeriesNumber',\n",
       " 'SliceLocation',\n",
       " 'SpecificCharacterSet',\n",
       " 'StudyInstanceUID',\n",
       " 'WindowCenter',\n",
       " 'WindowWidth']"
      ]
     },
     "execution_count": 19,
     "metadata": {},
     "output_type": "execute_result"
    }
   ],
   "source": [
    "ds.dir()"
   ]
  }
 ],
 "metadata": {
  "kernelspec": {
   "display_name": "Python 2",
   "language": "python",
   "name": "python2"
  },
  "language_info": {
   "codemirror_mode": {
    "name": "ipython",
    "version": 2
   },
   "file_extension": ".py",
   "mimetype": "text/x-python",
   "name": "python",
   "nbconvert_exporter": "python",
   "pygments_lexer": "ipython2",
   "version": "2.7.13"
  }
 },
 "nbformat": 4,
 "nbformat_minor": 2
}
